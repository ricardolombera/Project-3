{
 "cells": [
  {
   "cell_type": "markdown",
   "id": "90c4e4e2-5f1f-47f9-a0f4-67792f97fa6f",
   "metadata": {},
   "source": [
    "Ricardo Lombera\n",
    "\n",
    "Professor Feldman\n",
    "\n",
    "Computing in Context\n",
    "\n",
    "8 November 2024"
   ]
  },
  {
   "cell_type": "code",
   "execution_count": 1,
   "id": "372f13af",
   "metadata": {},
   "outputs": [],
   "source": [
    "import plotly.io as pio\n",
    "\n",
    "pio.renderers.default = \"vscode+jupyterlab+notebook_connected\""
   ]
  },
  {
   "cell_type": "markdown",
   "id": "26975d07-e4ed-4a02-bce5-19f952fcc9d4",
   "metadata": {},
   "source": [
    "# Project 1\n",
    "\n",
    "## Examing Data on Border Crossings \n",
    "\n",
    "Data provided by the [United States Department of Transportation (DOT)](https://www.transportation.gov)"
   ]
  },
  {
   "cell_type": "markdown",
   "id": "dc3ee6fe-03e7-4ba0-9783-9ff0c61e917f",
   "metadata": {},
   "source": [
    "## Part 1 - With Pandas"
   ]
  },
  {
   "cell_type": "markdown",
   "id": "4673a3dc-f3ac-4608-9f1e-1b2a14df991c",
   "metadata": {},
   "source": [
    "To begin, I loaded my desired data set detailing border crossings in the United States."
   ]
  },
  {
   "cell_type": "code",
   "execution_count": 246,
   "id": "10e27179-dcf1-4c81-b002-223096a39040",
   "metadata": {},
   "outputs": [],
   "source": [
    "import pandas as pd\n",
    "url = 'https://data.transportation.gov/api/views/keg4-3bc2/rows.csv'\n",
    "border_crossings = pd.read_csv(url)"
   ]
  },
  {
   "cell_type": "markdown",
   "id": "6862825c-7fc8-4892-8750-0a3ef87abdb1",
   "metadata": {},
   "source": [
    "Using [pandas' `.columns()`](https://pandas.pydata.org/pandasdocs/stable/reference/api/pandas.DataFrame.columns.html#pandas.DataFrame.column), I was able to see what information was availale in the dataset."
   ]
  },
  {
   "cell_type": "code",
   "execution_count": 248,
   "id": "02386f94-0865-4a0b-abdd-647cff4abbb6",
   "metadata": {},
   "outputs": [
    {
     "data": {
      "text/plain": [
       "Index(['Port Name', 'State', 'Port Code', 'Border', 'Date', 'Measure', 'Value',\n",
       "       'Latitude', 'Longitude', 'Point'],\n",
       "      dtype='object')"
      ]
     },
     "execution_count": 248,
     "metadata": {},
     "output_type": "execute_result"
    }
   ],
   "source": [
    "border_crossings.columns"
   ]
  },
  {
   "cell_type": "markdown",
   "id": "922bf10a-a4ff-49e9-872f-7c952bcb30f3",
   "metadata": {},
   "source": [
    "I determined that the most important information were the columns found in the double square brackets. \n",
    "\n",
    "I then created a new table with the selected information and used [pandas' `.head()`](https://pandas.pydata.org/pandas-docs/stable/reference/api/pandas.DataFrame.head.html#pandas.DataFrame.head) to ensure the table appeared correctly."
   ]
  },
  {
   "cell_type": "code",
   "execution_count": 252,
   "id": "6dd7aab2-54e2-43cc-bcea-b3f0469fa3af",
   "metadata": {},
   "outputs": [
    {
     "data": {
      "text/html": [
       "<div>\n",
       "<style scoped>\n",
       "    .dataframe tbody tr th:only-of-type {\n",
       "        vertical-align: middle;\n",
       "    }\n",
       "\n",
       "    .dataframe tbody tr th {\n",
       "        vertical-align: top;\n",
       "    }\n",
       "\n",
       "    .dataframe thead th {\n",
       "        text-align: right;\n",
       "    }\n",
       "</style>\n",
       "<table border=\"1\" class=\"dataframe\">\n",
       "  <thead>\n",
       "    <tr style=\"text-align: right;\">\n",
       "      <th></th>\n",
       "      <th>Port Name</th>\n",
       "      <th>State</th>\n",
       "      <th>Port Code</th>\n",
       "      <th>Border</th>\n",
       "      <th>Date</th>\n",
       "      <th>Value</th>\n",
       "    </tr>\n",
       "  </thead>\n",
       "  <tbody>\n",
       "    <tr>\n",
       "      <th>0</th>\n",
       "      <td>Roma</td>\n",
       "      <td>Texas</td>\n",
       "      <td>2310</td>\n",
       "      <td>US-Mexico Border</td>\n",
       "      <td>Dec 2023</td>\n",
       "      <td>46</td>\n",
       "    </tr>\n",
       "    <tr>\n",
       "      <th>1</th>\n",
       "      <td>Del Rio</td>\n",
       "      <td>Texas</td>\n",
       "      <td>2302</td>\n",
       "      <td>US-Mexico Border</td>\n",
       "      <td>Dec 2023</td>\n",
       "      <td>6552</td>\n",
       "    </tr>\n",
       "    <tr>\n",
       "      <th>2</th>\n",
       "      <td>Willow Creek</td>\n",
       "      <td>Montana</td>\n",
       "      <td>3325</td>\n",
       "      <td>US-Canada Border</td>\n",
       "      <td>Jan 2024</td>\n",
       "      <td>2</td>\n",
       "    </tr>\n",
       "    <tr>\n",
       "      <th>3</th>\n",
       "      <td>Whitlash</td>\n",
       "      <td>Montana</td>\n",
       "      <td>3321</td>\n",
       "      <td>US-Canada Border</td>\n",
       "      <td>Jan 2024</td>\n",
       "      <td>29</td>\n",
       "    </tr>\n",
       "    <tr>\n",
       "      <th>4</th>\n",
       "      <td>Ysleta</td>\n",
       "      <td>Texas</td>\n",
       "      <td>2401</td>\n",
       "      <td>US-Mexico Border</td>\n",
       "      <td>Jan 2024</td>\n",
       "      <td>521714</td>\n",
       "    </tr>\n",
       "  </tbody>\n",
       "</table>\n",
       "</div>"
      ],
      "text/plain": [
       "      Port Name    State  Port Code            Border      Date   Value\n",
       "0          Roma    Texas       2310  US-Mexico Border  Dec 2023      46\n",
       "1       Del Rio    Texas       2302  US-Mexico Border  Dec 2023    6552\n",
       "2  Willow Creek  Montana       3325  US-Canada Border  Jan 2024       2\n",
       "3      Whitlash  Montana       3321  US-Canada Border  Jan 2024      29\n",
       "4        Ysleta    Texas       2401  US-Mexico Border  Jan 2024  521714"
      ]
     },
     "execution_count": 252,
     "metadata": {},
     "output_type": "execute_result"
    }
   ],
   "source": [
    "border_crossing_table=border_crossings[['Port Name', 'State','Port Code', 'Border', 'Date', 'Value']]\n",
    "border_crossing_table.head()"
   ]
  },
  {
   "cell_type": "markdown",
   "id": "98fca18b-eac7-4e9b-8ffd-b2dff6526437",
   "metadata": {},
   "source": [
    "For organization, I sorted by value first, then by date. As a result, any repeated values are organized chronologically."
   ]
  },
  {
   "cell_type": "code",
   "execution_count": 255,
   "id": "20dba456-df31-4b6b-b438-39b89b7595b0",
   "metadata": {},
   "outputs": [
    {
     "data": {
      "text/html": [
       "<div>\n",
       "<style scoped>\n",
       "    .dataframe tbody tr th:only-of-type {\n",
       "        vertical-align: middle;\n",
       "    }\n",
       "\n",
       "    .dataframe tbody tr th {\n",
       "        vertical-align: top;\n",
       "    }\n",
       "\n",
       "    .dataframe thead th {\n",
       "        text-align: right;\n",
       "    }\n",
       "</style>\n",
       "<table border=\"1\" class=\"dataframe\">\n",
       "  <thead>\n",
       "    <tr style=\"text-align: right;\">\n",
       "      <th></th>\n",
       "      <th>Port Name</th>\n",
       "      <th>State</th>\n",
       "      <th>Port Code</th>\n",
       "      <th>Border</th>\n",
       "      <th>Date</th>\n",
       "      <th>Value</th>\n",
       "    </tr>\n",
       "  </thead>\n",
       "  <tbody>\n",
       "    <tr>\n",
       "      <th>7499</th>\n",
       "      <td>Turner</td>\n",
       "      <td>Montana</td>\n",
       "      <td>3306</td>\n",
       "      <td>US-Canada Border</td>\n",
       "      <td>Apr 1996</td>\n",
       "      <td>0</td>\n",
       "    </tr>\n",
       "    <tr>\n",
       "      <th>366924</th>\n",
       "      <td>Raymond</td>\n",
       "      <td>Montana</td>\n",
       "      <td>3301</td>\n",
       "      <td>US-Canada Border</td>\n",
       "      <td>Apr 1996</td>\n",
       "      <td>0</td>\n",
       "    </tr>\n",
       "    <tr>\n",
       "      <th>366952</th>\n",
       "      <td>Noyes</td>\n",
       "      <td>Minnesota</td>\n",
       "      <td>3402</td>\n",
       "      <td>US-Canada Border</td>\n",
       "      <td>Apr 1996</td>\n",
       "      <td>0</td>\n",
       "    </tr>\n",
       "    <tr>\n",
       "      <th>367108</th>\n",
       "      <td>Tecate</td>\n",
       "      <td>California</td>\n",
       "      <td>2505</td>\n",
       "      <td>US-Mexico Border</td>\n",
       "      <td>Apr 1996</td>\n",
       "      <td>0</td>\n",
       "    </tr>\n",
       "    <tr>\n",
       "      <th>367183</th>\n",
       "      <td>Hansboro</td>\n",
       "      <td>North Dakota</td>\n",
       "      <td>3415</td>\n",
       "      <td>US-Canada Border</td>\n",
       "      <td>Apr 1996</td>\n",
       "      <td>0</td>\n",
       "    </tr>\n",
       "    <tr>\n",
       "      <th>...</th>\n",
       "      <td>...</td>\n",
       "      <td>...</td>\n",
       "      <td>...</td>\n",
       "      <td>...</td>\n",
       "      <td>...</td>\n",
       "      <td>...</td>\n",
       "    </tr>\n",
       "    <tr>\n",
       "      <th>330345</th>\n",
       "      <td>El Paso</td>\n",
       "      <td>Texas</td>\n",
       "      <td>2402</td>\n",
       "      <td>US-Mexico Border</td>\n",
       "      <td>Jun 2000</td>\n",
       "      <td>4235244</td>\n",
       "    </tr>\n",
       "    <tr>\n",
       "      <th>316945</th>\n",
       "      <td>El Paso</td>\n",
       "      <td>Texas</td>\n",
       "      <td>2402</td>\n",
       "      <td>US-Mexico Border</td>\n",
       "      <td>Apr 2001</td>\n",
       "      <td>4252128</td>\n",
       "    </tr>\n",
       "    <tr>\n",
       "      <th>322035</th>\n",
       "      <td>El Paso</td>\n",
       "      <td>Texas</td>\n",
       "      <td>2402</td>\n",
       "      <td>US-Mexico Border</td>\n",
       "      <td>Feb 2001</td>\n",
       "      <td>4281175</td>\n",
       "    </tr>\n",
       "    <tr>\n",
       "      <th>312300</th>\n",
       "      <td>El Paso</td>\n",
       "      <td>Texas</td>\n",
       "      <td>2402</td>\n",
       "      <td>US-Mexico Border</td>\n",
       "      <td>Aug 2000</td>\n",
       "      <td>4291774</td>\n",
       "    </tr>\n",
       "    <tr>\n",
       "      <th>309098</th>\n",
       "      <td>El Paso</td>\n",
       "      <td>Texas</td>\n",
       "      <td>2402</td>\n",
       "      <td>US-Mexico Border</td>\n",
       "      <td>Mar 2001</td>\n",
       "      <td>4447374</td>\n",
       "    </tr>\n",
       "  </tbody>\n",
       "</table>\n",
       "<p>395638 rows × 6 columns</p>\n",
       "</div>"
      ],
      "text/plain": [
       "       Port Name         State  Port Code            Border      Date    Value\n",
       "7499      Turner       Montana       3306  US-Canada Border  Apr 1996        0\n",
       "366924   Raymond       Montana       3301  US-Canada Border  Apr 1996        0\n",
       "366952     Noyes     Minnesota       3402  US-Canada Border  Apr 1996        0\n",
       "367108    Tecate    California       2505  US-Mexico Border  Apr 1996        0\n",
       "367183  Hansboro  North Dakota       3415  US-Canada Border  Apr 1996        0\n",
       "...          ...           ...        ...               ...       ...      ...\n",
       "330345   El Paso         Texas       2402  US-Mexico Border  Jun 2000  4235244\n",
       "316945   El Paso         Texas       2402  US-Mexico Border  Apr 2001  4252128\n",
       "322035   El Paso         Texas       2402  US-Mexico Border  Feb 2001  4281175\n",
       "312300   El Paso         Texas       2402  US-Mexico Border  Aug 2000  4291774\n",
       "309098   El Paso         Texas       2402  US-Mexico Border  Mar 2001  4447374\n",
       "\n",
       "[395638 rows x 6 columns]"
      ]
     },
     "execution_count": 255,
     "metadata": {},
     "output_type": "execute_result"
    }
   ],
   "source": [
    "sorted_bc_table = border_crossing_table.sort_values(['Value','Date'])\n",
    "sorted_bc_table"
   ]
  },
  {
   "cell_type": "markdown",
   "id": "b0269c7c-c9ce-44c1-9e17-6e5e3d4fb1b3",
   "metadata": {},
   "source": [
    "I then utilized the pandas' functions of `mean.()`, `median.()`, and `mode.()` to determine the respective values of the Value numeric column."
   ]
  },
  {
   "cell_type": "code",
   "execution_count": 258,
   "id": "e934738d-3a08-42a5-92f7-856b18ae72cb",
   "metadata": {},
   "outputs": [
    {
     "data": {
      "text/plain": [
       "28849.33123714102"
      ]
     },
     "execution_count": 258,
     "metadata": {},
     "output_type": "execute_result"
    }
   ],
   "source": [
    "sorted_bc_table['Value'].mean()"
   ]
  },
  {
   "cell_type": "code",
   "execution_count": 260,
   "id": "65eb2c53-07e6-4542-848d-99bd5187a72d",
   "metadata": {},
   "outputs": [
    {
     "data": {
      "text/plain": [
       "143.0"
      ]
     },
     "execution_count": 260,
     "metadata": {},
     "output_type": "execute_result"
    }
   ],
   "source": [
    "sorted_bc_table['Value'].median()"
   ]
  },
  {
   "cell_type": "code",
   "execution_count": 262,
   "id": "942572c3-370e-47c9-9933-328f5423f353",
   "metadata": {},
   "outputs": [
    {
     "data": {
      "text/plain": [
       "0    0\n",
       "Name: Value, dtype: int64"
      ]
     },
     "execution_count": 262,
     "metadata": {},
     "output_type": "execute_result"
    }
   ],
   "source": [
    "sorted_bc_table['Value'].mode()"
   ]
  },
  {
   "cell_type": "markdown",
   "id": "c01e42fe-e707-413c-9ec7-899eb1486828",
   "metadata": {},
   "source": [
    "## Part 2 - The Hard Way"
   ]
  },
  {
   "cell_type": "markdown",
   "id": "74707c42-5231-4b9b-9462-f0653e7d16e2",
   "metadata": {},
   "source": [
    "To find **mean**  without pandas:\n",
    "1. I opened the border crossing data set using `.DictReader()`. \n",
    "2. I then created the total_value and count variables to represent the Value column and the number of rows, respectively. \n",
    "3. I then manually input the formula for mean, taking into account any floats, total sum of numbers in the Values column divided by the number of rows, equating to the same mean as the the pandas `.mean()` function."
   ]
  },
  {
   "cell_type": "code",
   "execution_count": 266,
   "id": "44652b97-c244-4b2e-b71e-b47fa2e5130a",
   "metadata": {},
   "outputs": [
    {
     "name": "stdout",
     "output_type": "stream",
     "text": [
      "28849.33123714102\n"
     ]
    }
   ],
   "source": [
    "import csv\n",
    "with open('Border_Crossing_Entry_Data.csv', 'r') as file:\n",
    "    reader = csv.DictReader(file)\n",
    "\n",
    "    total_value = 0\n",
    "    count = 0\n",
    "\n",
    "    for row in reader:\n",
    "        value = float(row['Value'])\n",
    "        total_value += value\n",
    "        count +=1\n",
    "        \n",
    "    mean = total_value / count\n",
    "    print(mean)"
   ]
  },
  {
   "cell_type": "markdown",
   "id": "cfa3329e-39c4-4f46-87de-c0737837674b",
   "metadata": {},
   "source": [
    "To find **median** without pandas:\n",
    "1. Beginning with an empty list, I opened the border crossing data set using `.DictReader()`. \n",
    "2. I then sorted all of the values, using float to take into account any numbers with decimals.\n",
    "4. For the median, the equation takes into account the average of the two middle numbers with n // 2 - 1 being the number before the middle and n // 2 being the middle number. This is then divided by 2 to get the average of the two numbers. This equates to the same median as the the pandas `.median()` function."
   ]
  },
  {
   "cell_type": "code",
   "execution_count": 271,
   "id": "1481072c-9e3f-4d39-aa24-9ec1ff5fee15",
   "metadata": {},
   "outputs": [
    {
     "name": "stdout",
     "output_type": "stream",
     "text": [
      "143.0\n"
     ]
    }
   ],
   "source": [
    "value = []\n",
    "\n",
    "with open('Border_Crossing_Entry_Data.csv', 'r') as file:\n",
    "    csv_reader = csv.DictReader(file)\n",
    "    for row in csv_reader:\n",
    "        value.append(float(row['Value']))\n",
    "\n",
    "value.sort()\n",
    "\n",
    "n = len(value)\n",
    "median = (value[n // 2 - 1] + value [n // 2]) / 2\n",
    "\n",
    "print(median)"
   ]
  },
  {
   "cell_type": "markdown",
   "id": "59fea125-20fb-44fd-9eed-1a05bcd3a758",
   "metadata": {},
   "source": [
    "To find **mode** without pandas:\n",
    "1. Beginning with an empty list, I opened the border crossing data set using `.DictReader()`. \n",
    "2. I then sorted all of the values, using float to take into account any numbers with decimals.\n",
    "4. For the mode, the [`.most_common()`](https://docs.python.org/3/library/collections.html#collections.Counter.most_common) function returns the most common numbers. However, they return as a tuple so I had to index the first number. This equates to the same mode as the the pandas `.mode()` function."
   ]
  },
  {
   "cell_type": "code",
   "execution_count": 277,
   "id": "5fadc0cd-e4fa-4453-b6b7-780d6279eb79",
   "metadata": {},
   "outputs": [
    {
     "name": "stdout",
     "output_type": "stream",
     "text": [
      "0.0\n"
     ]
    }
   ],
   "source": [
    "value = []\n",
    "\n",
    "with open('Border_Crossing_Entry_Data.csv', 'r') as file:\n",
    "    csv_reader = csv.DictReader(file)\n",
    "    for row in csv_reader:\n",
    "        value.append(float(row['Value']))\n",
    "\n",
    "counter = Counter(value)\n",
    "\n",
    "mode = counter.most_common(1)[0][0]\n",
    "\n",
    "print(mode)"
   ]
  },
  {
   "cell_type": "markdown",
   "id": "dd357222-d142-43c5-a6cc-609fb75e46df",
   "metadata": {},
   "source": [
    "## Part 3 - Data Visualization"
   ]
  },
  {
   "cell_type": "markdown",
   "id": "51bb6006-97c9-426a-88bb-d14b05116cd4",
   "metadata": {},
   "source": [
    "Through the `.unique()` function, I found that the smallest dataset values for qualitative data was states, with 14 unique values, compared to, for example, close to 120 unique values for Port Name. "
   ]
  },
  {
   "cell_type": "code",
   "execution_count": 281,
   "id": "90b3cebf-1912-4369-941f-074392e18ea4",
   "metadata": {},
   "outputs": [
    {
     "data": {
      "text/plain": [
       "array(['Montana', 'Minnesota', 'California', 'North Dakota', 'Washington',\n",
       "       'Vermont', 'Arizona', 'Maine', 'New York', 'Alaska', 'Idaho',\n",
       "       'Texas', 'New Mexico', 'Michigan'], dtype=object)"
      ]
     },
     "execution_count": 281,
     "metadata": {},
     "output_type": "execute_result"
    }
   ],
   "source": [
    "sorted_bc_table['State'].unique()"
   ]
  },
  {
   "cell_type": "code",
   "execution_count": 283,
   "id": "dd8e12e1-75dd-4ac1-982b-7fada31ec6c8",
   "metadata": {},
   "outputs": [
    {
     "data": {
      "text/plain": [
       "array(['Turner', 'Raymond', 'Noyes', 'Tecate', 'Hansboro', 'Fortuna',\n",
       "       'Boundary', 'Baudette', 'Antler', 'Carbury', 'Portal', 'Walhalla',\n",
       "       'Calexico East', 'Laurier', 'San Ysidro', 'Highgate Springs',\n",
       "       'Douglas', 'Andrade', 'Van Buren', 'Ferry', 'Neche', 'Sherwood',\n",
       "       'Whitetail', 'Richford', 'Whitlash', 'Alexandria Bay', 'Morgan',\n",
       "       'Dalton Cache', 'Skagway', 'Alcan', 'Scobey', 'Limestone',\n",
       "       'Danville', 'Calais', 'Pinecreek', 'Champlain Rouses Point',\n",
       "       'Houlton', 'Northgate', 'Porthill', 'St John', 'Progreso', 'Roma',\n",
       "       'Columbus', 'Fort Kent', 'Buffalo Niagara Falls', 'Sasabe',\n",
       "       'Point Roberts', 'Fort Fairfield', 'Beecher Falls', 'Hannah',\n",
       "       'Ogdensburg', 'Piegan', 'Kenneth G Ward', 'Nighthawk', 'Noonan',\n",
       "       'Opheim', 'Bridgewater', 'Detroit', 'Trout River', 'Santa Teresa',\n",
       "       'Roseau', 'Del Bonita', 'Brownsville', 'Rio Grande City',\n",
       "       'Portland', 'Ambrose', 'Nogales', 'International Falls',\n",
       "       'San Luis', 'Dunseith', 'Metaline Falls', 'Del Rio', 'Oroville',\n",
       "       'Frontier', 'Massena', 'Sarles', 'Maida', 'Roosville',\n",
       "       'Grand Portage', 'Warroad', 'Madawaska', 'Tornillo', 'Lukeville',\n",
       "       'Naco', 'Pembina', 'Westhope', 'Hidalgo', 'Laredo', 'El Paso',\n",
       "       'Sault Sainte Marie', 'Otay Mesa', 'Sumas', 'Derby Line',\n",
       "       'Vanceboro', 'Calexico', 'Norton', 'Port Huron', 'Presidio',\n",
       "       'Jackman', 'Eastport', 'Wildhorse', 'Anacortes', 'Lancaster',\n",
       "       'Port Angeles', 'Friday Harbor', 'Bar Harbor', 'Ketchikan',\n",
       "       'Willow Creek', 'Blaine', 'Eagle Pass', 'Cape Vincent',\n",
       "       'Boquillas', 'Sweetgrass', 'Ysleta', 'Algonac',\n",
       "       'Cross Border Xpress'], dtype=object)"
      ]
     },
     "execution_count": 283,
     "metadata": {},
     "output_type": "execute_result"
    }
   ],
   "source": [
    "sorted_bc_table['Port Name'].unique()"
   ]
  },
  {
   "cell_type": "markdown",
   "id": "b8a9d2c7-ae93-49bb-b18e-7feea0ab8155",
   "metadata": {},
   "source": [
    "With this information, I created a new dataframe that had State as my qualitative data and Value as my quantitative data."
   ]
  },
  {
   "cell_type": "code",
   "execution_count": 285,
   "id": "5c468b92-beb8-458c-b62b-6711ef194151",
   "metadata": {},
   "outputs": [
    {
     "data": {
      "text/html": [
       "<div>\n",
       "<style scoped>\n",
       "    .dataframe tbody tr th:only-of-type {\n",
       "        vertical-align: middle;\n",
       "    }\n",
       "\n",
       "    .dataframe tbody tr th {\n",
       "        vertical-align: top;\n",
       "    }\n",
       "\n",
       "    .dataframe thead th {\n",
       "        text-align: right;\n",
       "    }\n",
       "</style>\n",
       "<table border=\"1\" class=\"dataframe\">\n",
       "  <thead>\n",
       "    <tr style=\"text-align: right;\">\n",
       "      <th></th>\n",
       "      <th>State</th>\n",
       "      <th>Value</th>\n",
       "    </tr>\n",
       "  </thead>\n",
       "  <tbody>\n",
       "    <tr>\n",
       "      <th>0</th>\n",
       "      <td>Texas</td>\n",
       "      <td>46</td>\n",
       "    </tr>\n",
       "    <tr>\n",
       "      <th>1</th>\n",
       "      <td>Texas</td>\n",
       "      <td>6552</td>\n",
       "    </tr>\n",
       "    <tr>\n",
       "      <th>2</th>\n",
       "      <td>Montana</td>\n",
       "      <td>2</td>\n",
       "    </tr>\n",
       "    <tr>\n",
       "      <th>3</th>\n",
       "      <td>Montana</td>\n",
       "      <td>29</td>\n",
       "    </tr>\n",
       "    <tr>\n",
       "      <th>4</th>\n",
       "      <td>Texas</td>\n",
       "      <td>521714</td>\n",
       "    </tr>\n",
       "    <tr>\n",
       "      <th>...</th>\n",
       "      <td>...</td>\n",
       "      <td>...</td>\n",
       "    </tr>\n",
       "    <tr>\n",
       "      <th>395633</th>\n",
       "      <td>Maine</td>\n",
       "      <td>0</td>\n",
       "    </tr>\n",
       "    <tr>\n",
       "      <th>395634</th>\n",
       "      <td>New York</td>\n",
       "      <td>0</td>\n",
       "    </tr>\n",
       "    <tr>\n",
       "      <th>395635</th>\n",
       "      <td>Montana</td>\n",
       "      <td>0</td>\n",
       "    </tr>\n",
       "    <tr>\n",
       "      <th>395636</th>\n",
       "      <td>North Dakota</td>\n",
       "      <td>0</td>\n",
       "    </tr>\n",
       "    <tr>\n",
       "      <th>395637</th>\n",
       "      <td>Washington</td>\n",
       "      <td>5028</td>\n",
       "    </tr>\n",
       "  </tbody>\n",
       "</table>\n",
       "<p>395638 rows × 2 columns</p>\n",
       "</div>"
      ],
      "text/plain": [
       "               State   Value\n",
       "0              Texas      46\n",
       "1              Texas    6552\n",
       "2            Montana       2\n",
       "3            Montana      29\n",
       "4              Texas  521714\n",
       "...              ...     ...\n",
       "395633         Maine       0\n",
       "395634      New York       0\n",
       "395635       Montana       0\n",
       "395636  North Dakota       0\n",
       "395637    Washington    5028\n",
       "\n",
       "[395638 rows x 2 columns]"
      ]
     },
     "execution_count": 285,
     "metadata": {},
     "output_type": "execute_result"
    }
   ],
   "source": [
    "sorted_bc_table=border_crossings[['State', 'Value']]\n",
    "sorted_bc_table"
   ]
  },
  {
   "cell_type": "markdown",
   "id": "c265e0d2-35d1-4049-93ca-9ef59271bc1e",
   "metadata": {},
   "source": [
    "Using `.groupby()`, I found the values for each of the 14 states."
   ]
  },
  {
   "cell_type": "code",
   "execution_count": 288,
   "id": "b93a143e-5bd1-4a3f-9b9c-77d0f1c68ca7",
   "metadata": {},
   "outputs": [
    {
     "data": {
      "text/html": [
       "<div>\n",
       "<style scoped>\n",
       "    .dataframe tbody tr th:only-of-type {\n",
       "        vertical-align: middle;\n",
       "    }\n",
       "\n",
       "    .dataframe tbody tr th {\n",
       "        vertical-align: top;\n",
       "    }\n",
       "\n",
       "    .dataframe thead th {\n",
       "        text-align: right;\n",
       "    }\n",
       "</style>\n",
       "<table border=\"1\" class=\"dataframe\">\n",
       "  <thead>\n",
       "    <tr style=\"text-align: right;\">\n",
       "      <th></th>\n",
       "      <th>State</th>\n",
       "      <th>Value</th>\n",
       "    </tr>\n",
       "  </thead>\n",
       "  <tbody>\n",
       "    <tr>\n",
       "      <th>0</th>\n",
       "      <td>Alaska</td>\n",
       "      <td>12785</td>\n",
       "    </tr>\n",
       "    <tr>\n",
       "      <th>1</th>\n",
       "      <td>Arizona</td>\n",
       "      <td>22134</td>\n",
       "    </tr>\n",
       "    <tr>\n",
       "      <th>2</th>\n",
       "      <td>California</td>\n",
       "      <td>21674</td>\n",
       "    </tr>\n",
       "    <tr>\n",
       "      <th>3</th>\n",
       "      <td>Idaho</td>\n",
       "      <td>7608</td>\n",
       "    </tr>\n",
       "    <tr>\n",
       "      <th>4</th>\n",
       "      <td>Maine</td>\n",
       "      <td>43505</td>\n",
       "    </tr>\n",
       "    <tr>\n",
       "      <th>5</th>\n",
       "      <td>Michigan</td>\n",
       "      <td>12158</td>\n",
       "    </tr>\n",
       "    <tr>\n",
       "      <th>6</th>\n",
       "      <td>Minnesota</td>\n",
       "      <td>26230</td>\n",
       "    </tr>\n",
       "    <tr>\n",
       "      <th>7</th>\n",
       "      <td>Montana</td>\n",
       "      <td>42453</td>\n",
       "    </tr>\n",
       "    <tr>\n",
       "      <th>8</th>\n",
       "      <td>New Mexico</td>\n",
       "      <td>7408</td>\n",
       "    </tr>\n",
       "    <tr>\n",
       "      <th>9</th>\n",
       "      <td>New York</td>\n",
       "      <td>24226</td>\n",
       "    </tr>\n",
       "    <tr>\n",
       "      <th>10</th>\n",
       "      <td>North Dakota</td>\n",
       "      <td>63844</td>\n",
       "    </tr>\n",
       "    <tr>\n",
       "      <th>11</th>\n",
       "      <td>Texas</td>\n",
       "      <td>42044</td>\n",
       "    </tr>\n",
       "    <tr>\n",
       "      <th>12</th>\n",
       "      <td>Vermont</td>\n",
       "      <td>18936</td>\n",
       "    </tr>\n",
       "    <tr>\n",
       "      <th>13</th>\n",
       "      <td>Washington</td>\n",
       "      <td>50633</td>\n",
       "    </tr>\n",
       "  </tbody>\n",
       "</table>\n",
       "</div>"
      ],
      "text/plain": [
       "           State  Value\n",
       "0         Alaska  12785\n",
       "1        Arizona  22134\n",
       "2     California  21674\n",
       "3          Idaho   7608\n",
       "4          Maine  43505\n",
       "5       Michigan  12158\n",
       "6      Minnesota  26230\n",
       "7        Montana  42453\n",
       "8     New Mexico   7408\n",
       "9       New York  24226\n",
       "10  North Dakota  63844\n",
       "11         Texas  42044\n",
       "12       Vermont  18936\n",
       "13    Washington  50633"
      ]
     },
     "execution_count": 288,
     "metadata": {},
     "output_type": "execute_result"
    }
   ],
   "source": [
    "groupby_states = sorted_bc_table.groupby(\"State\").size().reset_index(name=\"Value\")\n",
    "groupby_states = groupby_states.sort_values(\"State\")\n",
    "groupby_states"
   ]
  },
  {
   "cell_type": "markdown",
   "id": "0bc2209f-d878-45a8-a77a-d322bccf3337",
   "metadata": {},
   "source": [
    "I converted the dataframe to a dictionary to keep track of value counts."
   ]
  },
  {
   "cell_type": "code",
   "execution_count": 291,
   "id": "b021f5cc-3f9f-4b73-bb1a-0347f070cde6",
   "metadata": {},
   "outputs": [
    {
     "name": "stdout",
     "output_type": "stream",
     "text": [
      "{'State': {0: 'Alaska', 1: 'Arizona', 2: 'California', 3: 'Idaho', 4: 'Maine', 5: 'Michigan', 6: 'Minnesota', 7: 'Montana', 8: 'New Mexico', 9: 'New York', 10: 'North Dakota', 11: 'Texas', 12: 'Vermont', 13: 'Washington'}, 'Value': {0: 12785, 1: 22134, 2: 21674, 3: 7608, 4: 43505, 5: 12158, 6: 26230, 7: 42453, 8: 7408, 9: 24226, 10: 63844, 11: 42044, 12: 18936, 13: 50633}}\n"
     ]
    }
   ],
   "source": [
    "dict_groupby_states = groupby_states.to_dict(orient='dict')\n",
    "print(dict_groupby_states)"
   ]
  },
  {
   "cell_type": "markdown",
   "id": "4ccb76ce-d754-4edb-8725-fafaba713979",
   "metadata": {},
   "source": [
    "To try and avoid any issues in the data visualization process, I made sure that the data type of the Value column was an integer."
   ]
  },
  {
   "cell_type": "code",
   "execution_count": 294,
   "id": "464de7f5-f889-4d87-ae2d-ced5b657618a",
   "metadata": {},
   "outputs": [
    {
     "name": "stdout",
     "output_type": "stream",
     "text": [
      "<class 'numpy.int64'>\n"
     ]
    }
   ],
   "source": [
    "data_type_value = type(groupby_states['Value'][0])\n",
    "print(data_type_value)"
   ]
  },
  {
   "cell_type": "markdown",
   "id": "bf7093e4-755f-4cf0-a0a3-90a3c9e2744c",
   "metadata": {},
   "source": [
    "Using a for loop, the function went through each row using `.iterrows()`.\n",
    "\n",
    "The 'State' and 'Value' labels and the symbol of '#' were used for the data visualization. Because the numbers were too large, I divided the total number by 1000 to be more legible for the reader. The number was also added to the end of the '#'s to confirm that the numbers match the dictionary."
   ]
  },
  {
   "cell_type": "code",
   "execution_count": 298,
   "id": "c0925fc5-6b8f-47b1-abb3-4380848b4211",
   "metadata": {},
   "outputs": [
    {
     "name": "stdout",
     "output_type": "stream",
     "text": [
      "Alaska: ############ (12785)\n",
      "Arizona: ###################### (22134)\n",
      "California: ##################### (21674)\n",
      "Idaho: ####### (7608)\n",
      "Maine: ########################################### (43505)\n",
      "Michigan: ############ (12158)\n",
      "Minnesota: ########################## (26230)\n",
      "Montana: ########################################## (42453)\n",
      "New Mexico: ####### (7408)\n",
      "New York: ######################## (24226)\n",
      "North Dakota: ############################################################### (63844)\n",
      "Texas: ########################################## (42044)\n",
      "Vermont: ################## (18936)\n",
      "Washington: ################################################## (50633)\n"
     ]
    }
   ],
   "source": [
    "for index, row in groupby_states.iterrows():\n",
    "    state = row['State']\n",
    "    value = row['Value']\n",
    "    bar = '#' * (value // 1000)\n",
    "    print(f\"{state}: {bar} ({value})\")"
   ]
  },
  {
   "cell_type": "code",
   "execution_count": null,
   "id": "452aa4f7-dd2b-4de8-bffd-26be7b56e70f",
   "metadata": {},
   "outputs": [],
   "source": []
  }
 ],
 "metadata": {
  "kernelspec": {
   "display_name": "CiC",
   "language": "python",
   "name": "python3"
  },
  "language_info": {
   "codemirror_mode": {
    "name": "ipython",
    "version": 3
   },
   "file_extension": ".py",
   "mimetype": "text/x-python",
   "name": "python",
   "nbconvert_exporter": "python",
   "pygments_lexer": "ipython3",
   "version": "3.12.7"
  }
 },
 "nbformat": 4,
 "nbformat_minor": 5
}
